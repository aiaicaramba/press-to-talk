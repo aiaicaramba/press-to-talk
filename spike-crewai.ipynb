{
 "cells": [
  {
   "cell_type": "markdown",
   "metadata": {},
   "source": [
    "# Spike CrewAI Basic Concepts\n",
    "\n",
    "CrewAI is a framework for orchestrating autonomous AI agents in a realm of collaborative intelligence. By seamlessly uniting agents, CrewAI empowers them to tackle complex tasks. CrewAI fosters unparalleled collaboration among AI agents, setting the stage for unprecedented achievements in the digital domain. 🚀🤖\n",
    "\n",
    "- [Agents](#agents)\n",
    "- [Tasks](#tasks)\n",
    "- [Crew](#meet-the-team)\n",
    "- [Kickoff](#kickoff)"
   ]
  },
  {
   "cell_type": "code",
   "execution_count": null,
   "metadata": {
    "notebookRunGroups": {
     "groupValue": ""
    }
   },
   "outputs": [],
   "source": [
    "# Dependencies\n",
    "%pip install -qqq crewai 'crewai[tools]'"
   ]
  },
  {
   "cell_type": "code",
   "execution_count": null,
   "metadata": {},
   "outputs": [],
   "source": [
    "# Credentials\n",
    "import os\n",
    "import getpass\n",
    "\n",
    "os.environ['OPENAI_API_KEY'] = getpass.getpass(\"OPENAI_API_KEY\")\n",
    "os.environ[\"SERPER_API_KEY\"] = getpass.getpass(\"SERPER_API_KEY\") # serper.dev API key for Google Searches"
   ]
  },
  {
   "cell_type": "markdown",
   "metadata": {},
   "source": [
    "## Agents\n",
    "\n",
    "An [agent](https://docs.crewai.com/core-concepts/Agents/#what-is-an-agent) is an autonomous unit programmed to:\n",
    "\n",
    "- Perform tasks\n",
    "- Make decisions\n",
    "- Communicate with other agents\n",
    "\n",
    "Think of an agent as a member of a team, with specific skills and a particular job to do. Agents can have different roles like 'Researcher', 'Writer', or 'Customer Support', each contributing to the overall goal of the crew."
   ]
  },
  {
   "cell_type": "code",
   "execution_count": null,
   "metadata": {},
   "outputs": [],
   "source": [
    "from crewai import Agent\n",
    "from crewai_tools import SerperDevTool\n",
    "\n",
    "search_tool = SerperDevTool()\n",
    "\n",
    "# Creating a senior researcher agent with memory and verbose mode\n",
    "researcher = Agent(\n",
    "    role='Senior Researcher',\n",
    "    goal='Uncover groundbreaking technologies in {topic}',\n",
    "    verbose=True,\n",
    "    memory=True,\n",
    "    backstory=(\n",
    "        \"Driven by curiosity, you're at the forefront of\"\n",
    "        \"innovation, eager to explore and share knowledge that could change\"\n",
    "        \"the world.\"\n",
    "    ),\n",
    "    tools=[search_tool],\n",
    "    allow_delegation=True\n",
    ")\n",
    "\n",
    "# Creating a writer agent with custom tools and delegation capability\n",
    "writer = Agent(\n",
    "    role='Writer',\n",
    "    goal='Narrate compelling tech stories about {topic}',\n",
    "    verbose=True,\n",
    "    memory=True,\n",
    "    backstory=(\n",
    "        \"With a flair for simplifying complex topics, you craft\"\n",
    "        \"engaging narratives that captivate and educate, bringing new\"\n",
    "        \"discoveries to light in an accessible manner.\"\n",
    "    ),\n",
    "    tools=[search_tool],\n",
    "    allow_delegation=False\n",
    ")"
   ]
  },
  {
   "cell_type": "markdown",
   "metadata": {},
   "source": [
    "## Tasks\n",
    "\n",
    "In the CrewAI framework, [tasks](https://docs.crewai.com/core-concepts/Tasks/) are individual assignments that agents complete. They encapsulate necessary information for execution, including a description, assigned agent, required tools, offering flexibility for various action complexities."
   ]
  },
  {
   "cell_type": "code",
   "execution_count": null,
   "metadata": {},
   "outputs": [],
   "source": [
    "from crewai import Task\n",
    "\n",
    "# Research task\n",
    "research_task = Task(\n",
    "    description=(\n",
    "        \"Identify the next big trend in {topic}.\"\n",
    "        \"Focus on identifying pros and cons and the overall narrative.\"\n",
    "        \"Your final report should clearly articulate the key points\"\n",
    "        \"its market opportunities, and potential risks.\"\n",
    "    ),\n",
    "    expected_output='A comprehensive 3 paragraphs long report on the latest AI trends.',\n",
    "    tools=[search_tool],\n",
    "    agent=researcher,\n",
    ")\n",
    "\n",
    "# Writing task with language model configuration\n",
    "write_task = Task(\n",
    "    description=(\n",
    "        \"Compose an insightful article on {topic}.\"\n",
    "        \"Focus on the latest trends and how it's impacting the industry.\"\n",
    "        \"This article should be easy to understand, engaging, and positive.\"\n",
    "    ),\n",
    "    expected_output='A 4 paragraph article on {topic} advancements formatted as markdown.',\n",
    "    tools=[search_tool],\n",
    "    agent=writer,\n",
    "    async_execution=False,\n",
    "    output_file='new-blog-post.md'  # Example of output customization\n",
    ")"
   ]
  },
  {
   "cell_type": "markdown",
   "metadata": {},
   "source": [
    "## Meet the Team\n",
    "\n",
    "A [crew](https://docs.crewai.com/core-concepts/Crews/) in crewAI represents a collaborative group of agents working together to achieve a set of tasks. Each crew defines the strategy for task execution, agent collaboration, and the overall workflow."
   ]
  },
  {
   "cell_type": "code",
   "execution_count": null,
   "metadata": {},
   "outputs": [],
   "source": [
    "from crewai import Crew, Process\n",
    "\n",
    "# Forming the tech-focused crew with enhanced configurations\n",
    "crew = Crew(\n",
    "    agents=[researcher, writer],\n",
    "    tasks=[research_task, write_task],\n",
    "    process=Process.sequential  # Optional: Sequential task execution is default\n",
    ")"
   ]
  },
  {
   "cell_type": "markdown",
   "metadata": {},
   "source": [
    "## Kickoff\n",
    "\n",
    "Let the crew do its collaborative magic."
   ]
  },
  {
   "cell_type": "code",
   "execution_count": null,
   "metadata": {},
   "outputs": [],
   "source": [
    "# Starting the task execution process with enhanced feedback\n",
    "result = crew.kickoff(inputs={'topic': 'AI in journalism'})\n",
    "print(result)"
   ]
  },
  {
   "cell_type": "markdown",
   "metadata": {},
   "source": [
    "---\n",
    "\n",
    "Result 20240324:\n",
    "\n",
    "## AI in Journalism: A New Era of Enhanced Reporting\n",
    "\n",
    "In an ever-evolving digital world, journalism is experiencing a revolutionary shift powered by Artificial Intelligence (AI). From content creation to personalization to automation, AI is redefining how we consume and understand news, promising a future of enhanced reporting. \n",
    "\n",
    "AI bots and personal assistants are leading this transformation, becoming indispensable tools for modern journalism. AI bots, with their ability to synthesize information from various sources, offer personalized news reports catering to individual reader preferences. Simultaneously, AI personal assistants automate routine tasks, freeing journalists to focus on the more intricate aspects of their work.\n",
    "\n",
    "The power of AI extends beyond mere assistance. With generative AI, news organizations can create articles from data sets, such as financial reports, sports scores, and weather forecasts. This technology brings a new perspective to content creation, blurring the lines between human and AI-generated content. However, this innovation also raises ethical concerns and questions about the homogeneity of news.\n",
    "\n",
    "Nevertheless, the future of journalism with AI holds immense potential. Amid concerns about job loss and quality control, there is a continued effort to balance efficiency and innovation. As AI continues to permeate journalism, it brings not only challenges but also opportunities for growth and evolution. Ultimately, the integration of AI in journalism marks a new era of enhanced reporting - an era where technology and human ingenuity work hand in hand to deliver impactful stories."
   ]
  }
 ],
 "metadata": {
  "kernelspec": {
   "display_name": "Python 3",
   "language": "python",
   "name": "python3"
  },
  "language_info": {
   "codemirror_mode": {
    "name": "ipython",
    "version": 3
   },
   "file_extension": ".py",
   "mimetype": "text/x-python",
   "name": "python",
   "nbconvert_exporter": "python",
   "pygments_lexer": "ipython3",
   "version": "3.11.7"
  }
 },
 "nbformat": 4,
 "nbformat_minor": 2
}
