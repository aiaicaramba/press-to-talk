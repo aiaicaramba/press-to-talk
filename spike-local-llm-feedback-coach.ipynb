{
 "cells": [
  {
   "cell_type": "code",
   "execution_count": null,
   "metadata": {},
   "outputs": [],
   "source": [
    "# Dependencies\n",
    "%pip install -Uq crewai 'crewai[tools]'"
   ]
  },
  {
   "cell_type": "code",
   "execution_count": null,
   "metadata": {},
   "outputs": [],
   "source": [
    "# Environment Variables\n",
    "import os\n",
    "\n",
    "os.environ['OPENAI_API_BASE']=\"http://192.168.50.172:1234/v1\" # LMStudio API Base URL\n",
    "os.environ['OPENAI_MODEL_NAME']='NA'\n",
    "os.environ['OPENAI_API_KEY']='lm-studio'"
   ]
  },
  {
   "cell_type": "code",
   "execution_count": null,
   "metadata": {},
   "outputs": [],
   "source": [
    "from crewai import Agent\n",
    "from crewai_tools import TXTSearchTool\n",
    "\n",
    "# Define the Student Coach agent\n",
    "student_coach = Agent(\n",
    "    role='Student Coach',\n",
    "    goal='The help students based on their input: {topic}',\n",
    "    verbose=False,\n",
    "    memory=True,\n",
    "    backstory=(\n",
    "        \"You are a friendly coach who is passionate about helping students learn \"\n",
    "        \"and adheres to the highest standards of coaching. You are here to help students \"\n",
    "        \"on their learning journey and provide them with the best possible feedback questions. \"\n",
    "    ),\n",
    "    allow_delegation=True,\n",
    ")"
   ]
  },
  {
   "cell_type": "code",
   "execution_count": null,
   "metadata": {},
   "outputs": [],
   "source": [
    "from crewai import Task\n",
    "\n",
    "# Define the feedback task\n",
    "feedback_task = Task(\n",
    "    description=(\n",
    "        \"Provide friendly feedback to show your compassion, then ask an emphatic follow up question based on the student input: {topic} \"\n",
    "    ),\n",
    "    expected_output='One emphatic question to help the student think. ',\n",
    "    agent=student_coach,\n",
    ")"
   ]
  },
  {
   "cell_type": "code",
   "execution_count": null,
   "metadata": {},
   "outputs": [],
   "source": [
    "from crewai import Crew, Process\n",
    "\n",
    "# Define the crew with the student coach and feedback task\n",
    "crew = Crew(\n",
    "    agents=[student_coach],\n",
    "    tasks=[feedback_task],\n",
    "    process=Process.sequential,  # Optional: Sequential task execution is default\n",
    "    verbose=False,\n",
    ")"
   ]
  },
  {
   "cell_type": "code",
   "execution_count": null,
   "metadata": {},
   "outputs": [],
   "source": [
    "# Start the crew session\n",
    "result = crew.kickoff(inputs={'topic': 'I tried to plan my tasks for today, but I lost myself in gaming last night. I feel so unproductive. How can I face this?'})\n",
    "print(result)"
   ]
  }
 ],
 "metadata": {
  "kernelspec": {
   "display_name": "base",
   "language": "python",
   "name": "python3"
  },
  "language_info": {
   "codemirror_mode": {
    "name": "ipython",
    "version": 3
   },
   "file_extension": ".py",
   "mimetype": "text/x-python",
   "name": "python",
   "nbconvert_exporter": "python",
   "pygments_lexer": "ipython3",
   "version": "3.10.14"
  }
 },
 "nbformat": 4,
 "nbformat_minor": 2
}
