{
 "cells": [
  {
   "cell_type": "markdown",
   "metadata": {},
   "source": [
    "# Spike Langgraph Meta Feedback"
   ]
  },
  {
   "cell_type": "code",
   "execution_count": 1,
   "metadata": {},
   "outputs": [
    {
     "name": "stdout",
     "output_type": "stream",
     "text": [
      "Note: you may need to restart the kernel to use updated packages.\n"
     ]
    }
   ],
   "source": [
    "%pip install -Uq langchain langgraph langchain_openai langchainhub langsmith ipywidgets"
   ]
  },
  {
   "cell_type": "code",
   "execution_count": 2,
   "metadata": {},
   "outputs": [],
   "source": [
    "import os\n",
    "\n",
    "# Commented out if set in .env file\n",
    "# os.environ[\"OPENAI_API_KEY\"] = 'lm-studio' # Set to 'lm-studio' for local LMStudio inference\n",
    "# os.environ[\"LANGCHAIN_API_KEY\"] = ''\n",
    "\n",
    "# Set LangSmith tracing and project name reference variables\n",
    "os.environ[\"LANGCHAIN_TRACING_V2\"] = 'true' \n",
    "os.environ[\"LANGCHAIN_PROJECT\"] = 'Meta Feedback'"
   ]
  },
  {
   "cell_type": "code",
   "execution_count": 3,
   "metadata": {},
   "outputs": [
    {
     "name": "stderr",
     "output_type": "stream",
     "text": [
      "/Users/leonvanbokhorst/repos/press-to-talk/.venv/lib/python3.9/site-packages/urllib3/__init__.py:35: NotOpenSSLWarning: urllib3 v2 only supports OpenSSL 1.1.1+, currently the 'ssl' module is compiled with 'LibreSSL 2.8.3'. See: https://github.com/urllib3/urllib3/issues/3020\n",
      "  warnings.warn(\n"
     ]
    }
   ],
   "source": [
    "import functools, operator, requests, os, json\n",
    "from bs4 import BeautifulSoup\n",
    "\n",
    "from langchain.agents import AgentExecutor, create_openai_tools_agent\n",
    "from langchain_core.messages import BaseMessage, HumanMessage\n",
    "from langchain.output_parsers.openai_functions import JsonOutputFunctionsParser\n",
    "from langchain_core.prompts import ChatPromptTemplate, MessagesPlaceholder\n",
    "from langgraph.graph import StateGraph, END\n",
    "from langchain.tools import tool\n",
    "from langchain_openai import ChatOpenAI\n",
    "from typing import Annotated, Any, Dict, List, Optional, Sequence, TypedDict"
   ]
  },
  {
   "cell_type": "code",
   "execution_count": 4,
   "metadata": {},
   "outputs": [],
   "source": [
    "# Initialize model\n",
    "llm = ChatOpenAI(model=\"gpt-3.5-turbo\")\n",
    "#llm = ChatOpenAI(model=\"NA\", base_url=\"http://192.168.50.116:8000/v1\") # Use for local inference"
   ]
  },
  {
   "cell_type": "code",
   "execution_count": 5,
   "metadata": {},
   "outputs": [],
   "source": [
    "# Internet Search Tool (TavilySearch)\n",
    "from langchain_community.tools.tavily_search import TavilySearchResults\n",
    "internet_search = TavilySearchResults(max_results=3)\n",
    "\n",
    "# Process Content Tool (BS4)\n",
    "@tool(\"process_content\", return_direct=False)\n",
    "def process_content(url: str) -> str:\n",
    "    \"\"\"Processes content from a webpage.\"\"\"\n",
    "    response = requests.get(url)\n",
    "    soup = BeautifulSoup(response.content, 'html.parser')\n",
    "    return soup.get_text()\n",
    "\n",
    "# Tool set\n",
    "tools = [internet_search, process_content]"
   ]
  },
  {
   "cell_type": "code",
   "execution_count": 6,
   "metadata": {},
   "outputs": [],
   "source": [
    "# Helper function for creating agents\n",
    "def create_agent(llm: ChatOpenAI, tools: list, system_prompt: str):\n",
    "    prompt = ChatPromptTemplate.from_messages([\n",
    "        (\"system\", system_prompt),\n",
    "        MessagesPlaceholder(variable_name=\"messages\"),\n",
    "        MessagesPlaceholder(variable_name=\"agent_scratchpad\"),\n",
    "    ])\n",
    "    agent = create_openai_tools_agent(llm, tools, prompt)\n",
    "    return AgentExecutor(agent=agent, tools=tools)\n",
    "\n",
    "# Define agent nodes\n",
    "def agent_node(state, agent, name):\n",
    "    result = agent.invoke(state)\n",
    "    return {\"messages\": [HumanMessage(content=result[\"output\"], name=name)]}"
   ]
  },
  {
   "cell_type": "code",
   "execution_count": 7,
   "metadata": {},
   "outputs": [],
   "source": [
    "# Create Agent Supervisor\n",
    "members = [\"feedback_coach\", \"feedback_analyst\", \"transcript_checker\"]\n",
    "system_prompt = (\"\"\"\n",
    "    As a supervisor, your role is to oversee a dialogue between these workers: \n",
    "    {members}. \n",
    "    \n",
    "    Based on the user's request, determine which of the workers should take the next action. \n",
    "    Each worker is responsible for answering a specific point of view and reporting back their findings and progress. \n",
    "    Once all tasks are complete, indicate with 'FINISH'.\"\"\"\n",
    ")\n",
    "\n",
    "options = [\"FINISH\"] + members\n",
    "function_def = {\n",
    "    \"name\": \"route\",\n",
    "    \"description\": \"Select the next role.\",\n",
    "    \"parameters\": {\n",
    "        \"title\": \"routeSchema\",\n",
    "        \"type\": \"object\",\n",
    "        \"properties\": {\"next\": {\"title\": \"Next\", \"anyOf\": [{\"enum\": options}] }},\n",
    "        \"required\": [\"next\"],\n",
    "    },\n",
    "}\n",
    "\n",
    "prompt = ChatPromptTemplate.from_messages([\n",
    "    (\"system\", system_prompt),\n",
    "    MessagesPlaceholder(variable_name=\"messages\"),\n",
    "    (\"system\", \"Given the conversation above, who should act next? We can only FINISH only after all workers gave you an advise? Select one of: {options}\"),\n",
    "]).partial(options=str(options), members=\", \".join(members))\n",
    "\n",
    "supervisor_chain = (prompt | llm.bind_functions(functions=[function_def], function_call=\"route\") | JsonOutputFunctionsParser())"
   ]
  },
  {
   "cell_type": "code",
   "execution_count": 8,
   "metadata": {},
   "outputs": [],
   "source": [
    "# Create Feedback Analyzer Agent\n",
    "feedback_analyst = create_agent(\n",
    "    llm,\n",
    "    tools,\n",
    "    \"\"\"\n",
    "\tYou are a very smart feedback analyst. \n",
    "\tYou can recognize given feedback, feed forward and feed up from written text. \n",
    "\tWhenever asked, you provide a deep analysis of the quality of the feedback.\"\"\",\n",
    ")\n",
    "\n",
    "feedback_analyst_node = functools.partial(\n",
    "    agent_node, agent=feedback_analyst, name=\"feedback_analyst\"\n",
    ")"
   ]
  },
  {
   "cell_type": "code",
   "execution_count": 9,
   "metadata": {},
   "outputs": [],
   "source": [
    "# Create Feedback Coach Agent\n",
    "feedback_coach = create_agent(\n",
    "    llm,\n",
    "    tools,\n",
    "    \"\"\"\n",
    "    You are a compassionate feedback coach. \n",
    "    You can give growth oriented feedback, feed forward and feed up from written text. \n",
    "    Whenever asked, you provide feedback to enhance the users learning process, personal, and professional growth.\"\"\",\n",
    ")\n",
    "\n",
    "feedback_coach_node = functools.partial(agent_node, agent=feedback_coach, name=\"feedback_coach\")"
   ]
  },
  {
   "cell_type": "code",
   "execution_count": 10,
   "metadata": {},
   "outputs": [],
   "source": [
    "# Create Transcript Agent\n",
    "transcript_checker = create_agent(\n",
    "    llm,\n",
    "    tools,\n",
    "    \"\"\"\n",
    "    You are a professional transcript checker. \n",
    "    You know exactly what is, and what is not mentioned in the transscript. \n",
    "    Whenever asked, you provide only the straight facts from the transcript in bullet points.\"\"\",\n",
    ")\n",
    "\n",
    "transcript_checker_node = functools.partial(agent_node, agent=transcript_checker, name=\"transcript_checker\")"
   ]
  },
  {
   "cell_type": "code",
   "execution_count": 11,
   "metadata": {},
   "outputs": [],
   "source": [
    "# Define the Agent State\n",
    "class AgentState(TypedDict):\n",
    "    messages: Annotated[Sequence[BaseMessage], operator.add]\n",
    "    next: str\n",
    "\n",
    "workflow = StateGraph(AgentState)\n",
    "workflow.add_node(\"feedback_coach\", feedback_coach_node)\n",
    "workflow.add_node(\"feedback_analyst\", feedback_analyst_node)\n",
    "workflow.add_node(\"transcript_checker\", transcript_checker_node)\n",
    "workflow.add_node(\"supervisor\", supervisor_chain)"
   ]
  },
  {
   "cell_type": "code",
   "execution_count": 12,
   "metadata": {},
   "outputs": [],
   "source": [
    "# Define edges\n",
    "for member in members:\n",
    "    workflow.add_edge(member, \"supervisor\")\n",
    "\n",
    "conditional_map = {k: k for k in members}\n",
    "conditional_map[\"FINISH\"] = END\n",
    "workflow.add_conditional_edges(\"supervisor\", lambda x: x[\"next\"], conditional_map)\n",
    "workflow.set_entry_point(\"supervisor\")\n",
    "\n",
    "# Compile the workflow graph\n",
    "graph = workflow.compile()"
   ]
  },
  {
   "cell_type": "code",
   "execution_count": 15,
   "metadata": {},
   "outputs": [
    {
     "name": "stdout",
     "output_type": "stream",
     "text": [
      "{'supervisor': {'next': 'feedback_coach'}}\n",
      "----\n",
      "{'feedback_coach': {'messages': [HumanMessage(content='It\\'s great that you\\'re seeking feedback on your encouragement approach with the student. Based on the conversation provided, here are some points to consider for enhancing your encouragement:\\n\\n1. **Positive Reinforcement**: You did provide positive reinforcement by acknowledging the student\\'s correct answer. This is important for boosting confidence and motivation.\\n\\n2. **Constructive Feedback**: While it\\'s good to acknowledge the correct answer, it\\'s also essential to address mistakes constructively. Instead of saying \"Incorrect,\" you could provide guidance on how to arrive at the correct answer.\\n\\n3. **Supportive Tone**: Your tone, especially the phrase \"You know your shit :)\" can be perceived in different ways by different students. It\\'s crucial to maintain a professional and supportive tone throughout the interaction.\\n\\n4. **Encouragement for Independence**: Encouraging the student to try the task on their own is positive as it promotes independent learning. However, it\\'s beneficial to provide additional resources or guidance for self-study.\\n\\n5. **Continuous Support**: It\\'s important to follow up with the student after the independent practice to provide feedback and address any further questions or misunderstandings.\\n\\nIn summary, while your encouragement was present, there are areas where you can further enhance it by providing constructive feedback, maintaining a supportive tone, and ensuring continuous support for the student\\'s learning journey.', name='feedback_coach')]}}\n",
      "----\n",
      "{'supervisor': {'next': 'feedback_analyst'}}\n",
      "----\n",
      "{'feedback_analyst': {'messages': [HumanMessage(content='Based on the feedback provided, let\\'s analyze the quality of the feedback given by the feedback coach in terms of feedforward:\\n\\n1. **Positive Reinforcement**: The feedback coach effectively acknowledges the positive reinforcement provided by the teacher in the conversation. This shows awareness of the importance of positive reinforcement in boosting the student\\'s confidence and motivation. The coach recognizes the teacher\\'s action as a strength in the encouragement approach.\\n\\n2. **Constructive Feedback**: The feedback coach identifies an area for improvement regarding constructive feedback. By suggesting providing guidance on how to arrive at the correct answer rather than simply stating \"Incorrect,\" the coach offers a specific and actionable suggestion for enhancing the teacher\\'s feedback strategy. This constructive feedback is valuable in helping the teacher improve their feedback approach.\\n\\n3. **Supportive Tone**: The feedback coach appropriately addresses the issue of maintaining a supportive tone in interactions with students. By highlighting the potential impact of phrases like \"You know your shit :)\" on different students, the coach emphasizes the importance of maintaining a professional and supportive tone. This guidance helps the teacher consider the impact of their language on student engagement and motivation.\\n\\n4. **Encouragement for Independence**: The feedback coach recognizes the value of encouraging students to work independently and offers insightful advice on providing additional resources or guidance for self-study. This recommendation aligns with fostering student autonomy and promoting effective learning strategies. The coach\\'s suggestion contributes to enhancing the teacher\\'s encouragement approach.\\n\\n5. **Continuous Support**: The feedback coach emphasizes the importance of continuous support for students\\' learning journeys. By highlighting the need for follow-up and feedback after independent practice, the coach underscores the significance of ongoing guidance and assistance for student progress. This advice reinforces the importance of sustained support in facilitating student learning and growth.\\n\\nOverall, the feedback provided by the feedback coach demonstrates a thorough analysis of the teacher\\'s encouragement approach and offers constructive suggestions for improvement. The feedback is insightful, actionable, and focused on enhancing the teacher\\'s feedback strategies to better support student learning and development.', name='feedback_analyst')]}}\n",
      "----\n",
      "{'supervisor': {'next': 'transcript_checker'}}\n",
      "----\n",
      "{'transcript_checker': {'messages': [HumanMessage(content='I encountered an issue while trying to access external resources for further information on giving positive feedback, constructive feedback, and the power of positive language. If you have any specific questions or need additional information based on the feedback provided, feel free to ask!', name='transcript_checker')]}}\n",
      "----\n",
      "{'supervisor': {'next': 'feedback_analyst'}}\n",
      "----\n",
      "{'feedback_analyst': {'messages': [HumanMessage(content='I have found some resources that can provide more insights on giving positive feedback, constructive feedback, and the impact of positive language in education:\\n\\n### Giving Positive Feedback:\\n1. **[Harvard Division of Continuing Education - Giving Feedback To Your Students](https://teach.extension.harvard.edu/blog/giving-feedback-your-students)**\\n   - Discusses the importance of feedback in student learning and improvement.\\n   - Provides tips on the types of feedback and tools for effective feedback.\\n\\n2. **[Teach Starter - Giving Positive Feedback for Students with Examples](https://www.teachstarter.com/us/blog/positive-feedback-for-students-with-examples-us/)**\\n   - Offers practical tips and resources for giving positive feedback to students.\\n   - Encourages creating a supportive learning environment through positive reinforcement.\\n\\n### Constructive Feedback:\\n1. **[Edutopia - Tips for Providing Students with Meaningful Feedback](https://www.edutopia.org/blog/tips-providing-students-meaningful-feedback-marianne-stenger)**\\n   - Emphasizes the importance of being specific in feedback.\\n   - Discusses the timing and presentation of feedback for maximum impact.\\n\\n2. **[MIT Teaching and Learning Laboratory - How to Give Feedback](https://tll.mit.edu/teaching-resources/assess-learning/how-to-give-feedback/)**\\n   - Explores the different types of feedback based on learning goals.\\n   - Provides strategies for linking practice with targeted feedback.\\n\\n### Power of Positive Language:\\n1. **[ResearchGate - Positive Language Education](https://www.researchgate.net/publication/331357141_Positive_Language_Education_Combining_Positive_Education_and_Language_Education)**\\n   - Introduces the concept of Positive Language Education combining language learning with positive pedagogy.\\n   - Advocates for kindness and positivity in language education.\\n\\n2. **[Edutopia - Positive Words Go a Long Way](https://www.edutopia.org/article/positive-words-go-long-way)**\\n   - Highlights the importance of practicing positive vocabulary in education.\\n   - Encourages students to reflect on their language use for a positive impact.\\n\\nThese resources can offer valuable insights and strategies for enhancing your feedback approach. Feel free to explore them for more detailed information on giving positive feedback, constructive feedback, and utilizing positive language in educational settings.', name='feedback_analyst')]}}\n",
      "----\n",
      "{'supervisor': {'next': 'feedback_analyst'}}\n",
      "----\n",
      "{'feedback_analyst': {'messages': [HumanMessage(content='I have provided resources that offer detailed insights on giving positive feedback, constructive feedback, and the impact of positive language in education. If you have any specific questions or if you need further assistance in understanding or applying the concepts from these resources, feel free to ask!', name='feedback_analyst')]}}\n",
      "----\n",
      "{'supervisor': {'next': 'FINISH'}}\n",
      "----\n"
     ]
    }
   ],
   "source": [
    "# Run the graph\n",
    "from IPython.display import display, Markdown\n",
    "\n",
    "\n",
    "for s in graph.stream(\n",
    "    {\n",
    "        \"messages\": [\n",
    "            HumanMessage(\n",
    "                content=\"\"\"\n",
    "                I want to know if I gave enough encouragement to the student in the conversation below.\n",
    "                \n",
    "                Here is the transcript:\n",
    "                \n",
    "                --- Transcript ---\n",
    "                Student: I am struggling with my math homework.\n",
    "                Teacher: What specifically are you struggling with?\n",
    "                Student: I don't understand how to do long division.\n",
    "                \n",
    "                Teacher: Ok, let's go through an example together.\n",
    "                Student: Ok.\n",
    "                \n",
    "                Teacher: What is 100 divided by 5?\n",
    "                Student: 20.\n",
    "                \n",
    "                Teacher: Incorrect. What is 100 divided by 4?\n",
    "                Student: 25.\n",
    "                \n",
    "                Teacher: Correct. So why are you asking me then? You know your shit :)\n",
    "                \n",
    "                But seriously, great job. No try to do it on your own for the next hour and let's see how far you can get.\n",
    "                \n",
    "                \"\"\"\n",
    "            )\n",
    "        ],\n",
    "    }\n",
    "):\n",
    "    if \"__end__\" not in s:\n",
    "        print(s)\n",
    "        print(\"----\")"
   ]
  }
 ],
 "metadata": {
  "kernelspec": {
   "display_name": ".venv",
   "language": "python",
   "name": "python3"
  },
  "language_info": {
   "codemirror_mode": {
    "name": "ipython",
    "version": 3
   },
   "file_extension": ".py",
   "mimetype": "text/x-python",
   "name": "python",
   "nbconvert_exporter": "python",
   "pygments_lexer": "ipython3",
   "version": "3.9.6"
  }
 },
 "nbformat": 4,
 "nbformat_minor": 2
}
