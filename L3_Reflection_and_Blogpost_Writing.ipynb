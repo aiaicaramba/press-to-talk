{
 "cells": [
  {
   "cell_type": "markdown",
   "id": "fc3024e2",
   "metadata": {},
   "source": [
    "# Lesson 3: Reflection and Blogpost Writing"
   ]
  },
  {
   "cell_type": "markdown",
   "id": "3b0cc42f",
   "metadata": {},
   "source": [
    "## Setup"
   ]
  },
  {
   "cell_type": "code",
   "execution_count": 1,
   "id": "96d39be0-eaf3-456d-8613-ba21099ed36b",
   "metadata": {
    "height": 30
   },
   "outputs": [],
   "source": [
    "llm_config = {\"model\": \"gpt-3.5-turbo\"}"
   ]
  },
  {
   "cell_type": "markdown",
   "id": "0969e6bb",
   "metadata": {},
   "source": [
    "## The task!"
   ]
  },
  {
   "cell_type": "code",
   "execution_count": 2,
   "id": "e8074032-3690-4de9-ad08-ea8323cb441b",
   "metadata": {
    "height": 115
   },
   "outputs": [],
   "source": [
    "task = '''\n",
    "        Write a concise but engaging blogpost about\n",
    "       DeepLearning.AI. Make sure the blogpost is\n",
    "       within 100 words.\n",
    "       '''\n"
   ]
  },
  {
   "cell_type": "markdown",
   "id": "1987f023",
   "metadata": {},
   "source": [
    "## Create a writer agent"
   ]
  },
  {
   "cell_type": "code",
   "execution_count": 4,
   "id": "fe0f0a47-a9fe-43a0-b7b1-79922e4c4ac8",
   "metadata": {
    "height": 183
   },
   "outputs": [],
   "source": [
    "from autogen import ConversableAgent\n",
    "\n",
    "writer = ConversableAgent(\n",
    "    name=\"Writer\",\n",
    "    system_message=\"You are a writer. You write engaging and concise \" \n",
    "        \"blogpost (with title) on given topics. You must polish your \"\n",
    "        \"writing based on the feedback you receive and give a refined \"\n",
    "        \"version. Only return your final work without additional comments.\",\n",
    "    llm_config=llm_config,\n",
    ")"
   ]
  },
  {
   "cell_type": "code",
   "execution_count": 5,
   "id": "7c7b4d8d-40f7-4a05-8958-25d20054de3a",
   "metadata": {
    "height": 30
   },
   "outputs": [
    {
     "name": "stdout",
     "output_type": "stream",
     "text": [
      "\u001b[31m\n",
      ">>>>>>>> USING AUTO REPLY...\u001b[0m\n"
     ]
    }
   ],
   "source": [
    "reply = writer.generate_reply(messages=[{\"content\": task, \"role\": \"user\"}])"
   ]
  },
  {
   "cell_type": "code",
   "execution_count": 6,
   "id": "c501c97d-e338-4f36-a384-6ec45983cf77",
   "metadata": {
    "height": 30
   },
   "outputs": [
    {
     "name": "stdout",
     "output_type": "stream",
     "text": [
      "Title: Unleashing the Power of AI with DeepLearning.AI\n",
      "\n",
      "Embark on a journey to unlock the realms of Artificial Intelligence with DeepLearning.AI. Founded by the renowned Andrew Ng, this platform offers top-tier courses that delve into the world of deep learning. From convolutional networks to natural language processing, you can master it all. Whether you're a novice or a seasoned expert, DeepLearning.AI caters to all levels, making cutting-edge AI education accessible to everyone. Join the millions worldwide diving into the future of technology. Dive into DeepLearning.AI and equip yourself with the skills to drive innovation and shape tomorrow's world.\n"
     ]
    }
   ],
   "source": [
    "print(reply)"
   ]
  },
  {
   "cell_type": "markdown",
   "id": "49658114",
   "metadata": {},
   "source": [
    "## Adding reflection \n",
    "\n",
    "Create a critic agent to reflect on the work of the writer agent."
   ]
  },
  {
   "cell_type": "code",
   "execution_count": 7,
   "id": "c7fcd1c7-51ec-4915-8e97-bac03565c4c7",
   "metadata": {
    "height": 149
   },
   "outputs": [],
   "source": [
    "critic = ConversableAgent(\n",
    "    name=\"Critic\",\n",
    "    is_termination_msg=lambda x: x.get(\"content\", \"\").find(\"TERMINATE\") >= 0,\n",
    "    llm_config=llm_config,\n",
    "    system_message=\"You are a critic. You review the work of \"\n",
    "                \"the writer and provide constructive \"\n",
    "                \"feedback to help improve the quality of the content.\",\n",
    ")"
   ]
  },
  {
   "cell_type": "code",
   "execution_count": 8,
   "id": "899d5fdb-6081-470b-b287-8cf8b8142d0d",
   "metadata": {
    "height": 115
   },
   "outputs": [
    {
     "name": "stdout",
     "output_type": "stream",
     "text": [
      "\u001b[33mCritic\u001b[0m (to Writer):\n",
      "\n",
      "\n",
      "        Write a concise but engaging blogpost about\n",
      "       DeepLearning.AI. Make sure the blogpost is\n",
      "       within 100 words.\n",
      "       \n",
      "\n",
      "--------------------------------------------------------------------------------\n",
      "\u001b[31m\n",
      ">>>>>>>> USING AUTO REPLY...\u001b[0m\n",
      "\u001b[33mWriter\u001b[0m (to Critic):\n",
      "\n",
      "Title: Unleashing the Power of AI with DeepLearning.AI\n",
      "\n",
      "Embark on a journey to unlock the realms of Artificial Intelligence with DeepLearning.AI. Founded by the renowned Andrew Ng, this platform offers top-tier courses that delve into the world of deep learning. From convolutional networks to natural language processing, you can master it all. Whether you're a novice or a seasoned expert, DeepLearning.AI caters to all levels, making cutting-edge AI education accessible to everyone. Join the millions worldwide diving into the future of technology. Dive into DeepLearning.AI and equip yourself with the skills to drive innovation and shape tomorrow's world.\n",
      "\n",
      "--------------------------------------------------------------------------------\n",
      "\u001b[31m\n",
      ">>>>>>>> USING AUTO REPLY...\u001b[0m\n",
      "\u001b[33mCritic\u001b[0m (to Writer):\n",
      "\n",
      "The blog post effectively captures the essence of DeepLearning.AI, highlighting its founder, course offerings, and accessibility. However, to make it more engaging, you could add specific examples of the impact of DeepLearning.AI on individuals or industries. Additionally, consider incorporating some data or statistics to showcase the platform's reach and success. The blog post could also be enhanced by including a call to action, inviting readers to explore DeepLearning.AI further or share their experiences with the platform. Overall, the content is informative and well-written, but adding these elements could make it even more compelling.\n",
      "\n",
      "--------------------------------------------------------------------------------\n",
      "\u001b[31m\n",
      ">>>>>>>> USING AUTO REPLY...\u001b[0m\n",
      "\u001b[33mWriter\u001b[0m (to Critic):\n",
      "\n",
      "Title: Empowering Minds and Shaping the Future with DeepLearning.AI\n",
      "\n",
      "Explore the boundless possibilities of Artificial Intelligence through DeepLearning.AI, a pioneering platform curated by the visionary Andrew Ng. Dive into courses on convolutional networks, natural language processing, and more, with impact stories ranging from revolutionizing healthcare to enhancing customer experiences. With millions worldwide benefiting from its resources, DeepLearning.AI is setting new standards in AI education. Join the AI revolution today - equip yourself with skills that drive innovation. Dare to shape the future; dive into DeepLearning.AI and be part of something extraordinary.\n",
      "\n",
      "--------------------------------------------------------------------------------\n"
     ]
    }
   ],
   "source": [
    "res = critic.initiate_chat(\n",
    "    recipient=writer,\n",
    "    message=task,\n",
    "    max_turns=2,\n",
    "    summary_method=\"last_msg\"\n",
    ")"
   ]
  },
  {
   "cell_type": "markdown",
   "id": "e7b76449",
   "metadata": {},
   "source": [
    "## Nested chat"
   ]
  },
  {
   "cell_type": "code",
   "execution_count": 11,
   "id": "401ecf92-63e9-40ff-aeed-1c404352e4ab",
   "metadata": {
    "height": 200
   },
   "outputs": [],
   "source": [
    "SEO_reviewer = ConversableAgent(\n",
    "    name=\"SEO Reviewer\",\n",
    "    llm_config=llm_config,\n",
    "    system_message=\"You are an SEO reviewer, known for \"\n",
    "        \"your ability to optimize content for search engines, \"\n",
    "        \"ensuring that it ranks well and attracts organic traffic. \" \n",
    "        \"Make sure your suggestion is concise (within 3 bullet points), \"\n",
    "        \"concrete and to the point. \"\n",
    "        \"Begin the review by stating your role.\",\n",
    ")\n"
   ]
  },
  {
   "cell_type": "code",
   "execution_count": 12,
   "id": "f85acb81-7ab9-4c84-b8bb-6fbae3dce848",
   "metadata": {
    "height": 183
   },
   "outputs": [],
   "source": [
    "legal_reviewer = ConversableAgent(\n",
    "    name=\"Legal Reviewer\",\n",
    "    llm_config=llm_config,\n",
    "    system_message=\"You are a legal reviewer, known for \"\n",
    "        \"your ability to ensure that content is legally compliant \"\n",
    "        \"and free from any potential legal issues. \"\n",
    "        \"Make sure your suggestion is concise (within 3 bullet points), \"\n",
    "        \"concrete and to the point. \"\n",
    "        \"Begin the review by stating your role.\",\n",
    ")"
   ]
  },
  {
   "cell_type": "code",
   "execution_count": 13,
   "id": "d46a177a-8088-4956-8d2b-3e916b8ca5e9",
   "metadata": {
    "height": 183
   },
   "outputs": [],
   "source": [
    "ethics_reviewer = ConversableAgent(\n",
    "    name=\"Ethics Reviewer\",\n",
    "    llm_config=llm_config,\n",
    "    system_message=\"You are an ethics reviewer, known for \"\n",
    "        \"your ability to ensure that content is ethically sound \"\n",
    "        \"and free from any potential ethical issues. \" \n",
    "        \"Make sure your suggestion is concise (within 3 bullet points), \"\n",
    "        \"concrete and to the point. \"\n",
    "        \"Begin the review by stating your role. \",\n",
    ")"
   ]
  },
  {
   "cell_type": "code",
   "execution_count": 14,
   "id": "a7b2ad6f-8ba6-436a-9459-14ffbe8a32d3",
   "metadata": {
    "height": 115
   },
   "outputs": [],
   "source": [
    "meta_reviewer = ConversableAgent(\n",
    "    name=\"Meta Reviewer\",\n",
    "    llm_config=llm_config,\n",
    "    system_message=\"You are a meta reviewer, you aggragate and review \"\n",
    "    \"the work of other reviewers and give a final suggestion on the content.\",\n",
    ")"
   ]
  },
  {
   "cell_type": "markdown",
   "id": "913beca1",
   "metadata": {},
   "source": [
    "## Orchestrate the nested chats to solve the task"
   ]
  },
  {
   "cell_type": "code",
   "execution_count": 15,
   "id": "a11a70c7-19ca-4e5a-ad3d-f2b481fb5915",
   "metadata": {
    "height": 540
   },
   "outputs": [],
   "source": [
    "def reflection_message(recipient, messages, sender, config):\n",
    "    return f'''Review the following content. \n",
    "            \\n\\n {recipient.chat_messages_for_summary(sender)[-1]['content']}'''\n",
    "\n",
    "review_chats = [\n",
    "    {\n",
    "     \"recipient\": SEO_reviewer, \n",
    "     \"message\": reflection_message, \n",
    "     \"summary_method\": \"reflection_with_llm\",\n",
    "     \"summary_args\": {\"summary_prompt\" : \n",
    "        \"Return review into as JSON object only:\"\n",
    "        \"{'Reviewer': '', 'Review': ''}. Here Reviewer should be your role\",},\n",
    "     \"max_turns\": 1},\n",
    "    {\n",
    "    \"recipient\": legal_reviewer, \"message\": reflection_message, \n",
    "     \"summary_method\": \"reflection_with_llm\",\n",
    "     \"summary_args\": {\"summary_prompt\" : \n",
    "        \"Return review into as JSON object only:\"\n",
    "        \"{'Reviewer': '', 'Review': ''}.\",},\n",
    "     \"max_turns\": 1},\n",
    "    {\"recipient\": ethics_reviewer, \"message\": reflection_message, \n",
    "     \"summary_method\": \"reflection_with_llm\",\n",
    "     \"summary_args\": {\"summary_prompt\" : \n",
    "        \"Return review into as JSON object only:\"\n",
    "        \"{'reviewer': '', 'review': ''}\",},\n",
    "     \"max_turns\": 1},\n",
    "     {\"recipient\": meta_reviewer, \n",
    "      \"message\": \"Aggregrate feedback from all reviewers and give final suggestions on the writing.\", \n",
    "     \"max_turns\": 1},\n",
    "]\n"
   ]
  },
  {
   "cell_type": "code",
   "execution_count": 16,
   "id": "b3a40b66-5061-460d-ad9d-c0dbcfbba2e9",
   "metadata": {
    "height": 81
   },
   "outputs": [],
   "source": [
    "critic.register_nested_chats(\n",
    "    review_chats,\n",
    "    trigger=writer,\n",
    ")"
   ]
  },
  {
   "cell_type": "markdown",
   "id": "43b8797d",
   "metadata": {},
   "source": [
    "**Note**: You might get a slightly different response than what's shown in the video. Feel free to try different task."
   ]
  },
  {
   "cell_type": "code",
   "execution_count": 17,
   "id": "3b8dcac3-1e72-43b7-9d5a-1be740f6efd5",
   "metadata": {
    "height": 115
   },
   "outputs": [
    {
     "name": "stdout",
     "output_type": "stream",
     "text": [
      "\u001b[33mCritic\u001b[0m (to Writer):\n",
      "\n",
      "\n",
      "        Write a concise but engaging blogpost about\n",
      "       DeepLearning.AI. Make sure the blogpost is\n",
      "       within 100 words.\n",
      "       \n",
      "\n",
      "--------------------------------------------------------------------------------\n",
      "\u001b[31m\n",
      ">>>>>>>> USING AUTO REPLY...\u001b[0m\n",
      "\u001b[33mWriter\u001b[0m (to Critic):\n",
      "\n",
      "Title: Unleashing the Power of AI with DeepLearning.AI\n",
      "\n",
      "Embark on a journey to unlock the realms of Artificial Intelligence with DeepLearning.AI. Founded by the renowned Andrew Ng, this platform offers top-tier courses that delve into the world of deep learning. From convolutional networks to natural language processing, you can master it all. Whether you're a novice or a seasoned expert, DeepLearning.AI caters to all levels, making cutting-edge AI education accessible to everyone. Join the millions worldwide diving into the future of technology. Dive into DeepLearning.AI and equip yourself with the skills to drive innovation and shape tomorrow's world.\n",
      "\n",
      "--------------------------------------------------------------------------------\n",
      "\u001b[31m\n",
      ">>>>>>>> USING AUTO REPLY...\u001b[0m\n",
      "\u001b[34m\n",
      "********************************************************************************\u001b[0m\n",
      "\u001b[34mStarting a new chat....\u001b[0m\n",
      "\u001b[34m\n",
      "********************************************************************************\u001b[0m\n",
      "\u001b[33mCritic\u001b[0m (to SEO Reviewer):\n",
      "\n",
      "Review the following content. \n",
      "            \n",
      "\n",
      " Title: Unleashing the Power of AI with DeepLearning.AI\n",
      "\n",
      "Embark on a journey to unlock the realms of Artificial Intelligence with DeepLearning.AI. Founded by the renowned Andrew Ng, this platform offers top-tier courses that delve into the world of deep learning. From convolutional networks to natural language processing, you can master it all. Whether you're a novice or a seasoned expert, DeepLearning.AI caters to all levels, making cutting-edge AI education accessible to everyone. Join the millions worldwide diving into the future of technology. Dive into DeepLearning.AI and equip yourself with the skills to drive innovation and shape tomorrow's world.\n",
      "\n",
      "--------------------------------------------------------------------------------\n",
      "\u001b[31m\n",
      ">>>>>>>> USING AUTO REPLY...\u001b[0m\n",
      "\u001b[33mSEO Reviewer\u001b[0m (to Critic):\n",
      "\n",
      "As an SEO reviewer:\n",
      "\n",
      "1. Enhance the title with targeted keywords: Consider adding popular search terms related to AI and online courses to improve search visibility. For example, \"Master AI with DeepLearning.AI: Courses for Deep Learning Enthusiasts & Beginners.\"\n",
      "   \n",
      "2. Incorporate relevant keywords naturally throughout the content: Integrate terms like \"artificial intelligence courses,\" \"deep learning education,\" and \"Andrew Ng\" to increase organic search rankings and attract a specific audience looking for AI resources.\n",
      "   \n",
      "3. Include a clear call-to-action: Encourage readers to take action by signing up for a course or exploring the platform further. For instance, \"Start your AI journey with DeepLearning.AI today and unlock the potential of tomorrow's technology.\"\n",
      "\n",
      "--------------------------------------------------------------------------------\n",
      "\u001b[34m\n",
      "********************************************************************************\u001b[0m\n",
      "\u001b[34mStarting a new chat....\u001b[0m\n",
      "\u001b[34m\n",
      "********************************************************************************\u001b[0m\n",
      "\u001b[33mCritic\u001b[0m (to Legal Reviewer):\n",
      "\n",
      "Review the following content. \n",
      "            \n",
      "\n",
      " Title: Unleashing the Power of AI with DeepLearning.AI\n",
      "\n",
      "Embark on a journey to unlock the realms of Artificial Intelligence with DeepLearning.AI. Founded by the renowned Andrew Ng, this platform offers top-tier courses that delve into the world of deep learning. From convolutional networks to natural language processing, you can master it all. Whether you're a novice or a seasoned expert, DeepLearning.AI caters to all levels, making cutting-edge AI education accessible to everyone. Join the millions worldwide diving into the future of technology. Dive into DeepLearning.AI and equip yourself with the skills to drive innovation and shape tomorrow's world.\n",
      "Context: \n",
      "{'Reviewer': 'SEO Specialist', 'Review': '1. Enhance the title with targeted keywords: Consider adding popular search terms related to AI and online courses to improve search visibility. For example, \"Master AI with DeepLearning.AI: Courses for Deep Learning Enthusiasts & Beginners.\" 2. Incorporate relevant keywords naturally throughout the content: Integrate terms like \"artificial intelligence courses,\" \"deep learning education,\" and \"Andrew Ng\" to increase organic search rankings and attract a specific audience looking for AI resources. 3. Include a clear call-to-action: Encourage readers to take action by signing up for a course or exploring the platform further. For instance, \"Start your AI journey with DeepLearning.AI today and unlock the potential of tomorrow's technology.\"'}\n",
      "\n",
      "--------------------------------------------------------------------------------\n",
      "\u001b[31m\n",
      ">>>>>>>> USING AUTO REPLY...\u001b[0m\n",
      "\u001b[33mLegal Reviewer\u001b[0m (to Critic):\n",
      "\n",
      "As a Legal Reviewer:\n",
      "\n",
      "- Ensure compliance with copyright laws: Confirm that the content does not infringe on any copyrights, especially when mentioning DeepLearning.AI and Andrew Ng.\n",
      "- Avoid misleading claims: Double-check that any statements made about the courses offered are accurate and not misleading to potential users.\n",
      "- Review for endorsement disclosures: If there are any endorsements or affiliations mentioned, ensure they comply with disclosure requirements to avoid any deceptive practices.\n",
      "\n",
      "--------------------------------------------------------------------------------\n",
      "\u001b[34m\n",
      "********************************************************************************\u001b[0m\n",
      "\u001b[34mStarting a new chat....\u001b[0m\n",
      "\u001b[34m\n",
      "********************************************************************************\u001b[0m\n",
      "\u001b[33mCritic\u001b[0m (to Ethics Reviewer):\n",
      "\n",
      "Review the following content. \n",
      "            \n",
      "\n",
      " Title: Unleashing the Power of AI with DeepLearning.AI\n",
      "\n",
      "Embark on a journey to unlock the realms of Artificial Intelligence with DeepLearning.AI. Founded by the renowned Andrew Ng, this platform offers top-tier courses that delve into the world of deep learning. From convolutional networks to natural language processing, you can master it all. Whether you're a novice or a seasoned expert, DeepLearning.AI caters to all levels, making cutting-edge AI education accessible to everyone. Join the millions worldwide diving into the future of technology. Dive into DeepLearning.AI and equip yourself with the skills to drive innovation and shape tomorrow's world.\n",
      "Context: \n",
      "{'Reviewer': 'SEO Specialist', 'Review': '1. Enhance the title with targeted keywords: Consider adding popular search terms related to AI and online courses to improve search visibility. For example, \"Master AI with DeepLearning.AI: Courses for Deep Learning Enthusiasts & Beginners.\" 2. Incorporate relevant keywords naturally throughout the content: Integrate terms like \"artificial intelligence courses,\" \"deep learning education,\" and \"Andrew Ng\" to increase organic search rankings and attract a specific audience looking for AI resources. 3. Include a clear call-to-action: Encourage readers to take action by signing up for a course or exploring the platform further. For instance, \"Start your AI journey with DeepLearning.AI today and unlock the potential of tomorrow's technology.\"'}\n",
      "{'Reviewer': 'SEO Specialist', 'Review': '1. Enhance the title with targeted keywords: Consider adding popular search terms related to AI and online courses to improve search visibility. For example, \"Master AI with DeepLearning.AI: Courses for Deep Learning Enthusiasts & Beginners.\" 2. Incorporate relevant keywords naturally throughout the content: Integrate terms like \"artificial intelligence courses,\" \"deep learning education,\" and \"Andrew Ng\" to increase organic search rankings and attract a specific audience looking for AI resources. 3. Include a clear call-to-action: Encourage readers to take action by signing up for a course or exploring the platform further. For instance, \"Start your AI journey with DeepLearning.AI today and unlock the potential of tomorrow's technology.\"}\n",
      "\n",
      "--------------------------------------------------------------------------------\n",
      "\u001b[31m\n",
      ">>>>>>>> USING AUTO REPLY...\u001b[0m\n",
      "\u001b[33mEthics Reviewer\u001b[0m (to Critic):\n",
      "\n",
      "As an ethics reviewer, I suggest the following for the content review:\n",
      "\n",
      "- Ensure transparency: Clearly disclose any potential conflicts of interest or partnerships with DeepLearning.AI to maintain trust with the audience.\n",
      "- Avoid misleading claims: Verify the accuracy of statements regarding the accessibility and effectiveness of the courses offered to present a realistic depiction of the learning experience.\n",
      "- Respect user privacy: Safeguard user data and adhere to data protection regulations when collecting information from individuals who sign up for courses on the platform.\n",
      "\n",
      "--------------------------------------------------------------------------------\n",
      "\u001b[34m\n",
      "********************************************************************************\u001b[0m\n",
      "\u001b[34mStarting a new chat....\u001b[0m\n",
      "\u001b[34m\n",
      "********************************************************************************\u001b[0m\n",
      "\u001b[33mCritic\u001b[0m (to Meta Reviewer):\n",
      "\n",
      "Aggregrate feedback from all reviewers and give final suggestions on the writing.\n",
      "Context: \n",
      "{'Reviewer': 'SEO Specialist', 'Review': '1. Enhance the title with targeted keywords: Consider adding popular search terms related to AI and online courses to improve search visibility. For example, \"Master AI with DeepLearning.AI: Courses for Deep Learning Enthusiasts & Beginners.\" 2. Incorporate relevant keywords naturally throughout the content: Integrate terms like \"artificial intelligence courses,\" \"deep learning education,\" and \"Andrew Ng\" to increase organic search rankings and attract a specific audience looking for AI resources. 3. Include a clear call-to-action: Encourage readers to take action by signing up for a course or exploring the platform further. For instance, \"Start your AI journey with DeepLearning.AI today and unlock the potential of tomorrow's technology.\"'}\n",
      "{'Reviewer': 'SEO Specialist', 'Review': '1. Enhance the title with targeted keywords: Consider adding popular search terms related to AI and online courses to improve search visibility. For example, \"Master AI with DeepLearning.AI: Courses for Deep Learning Enthusiasts & Beginners.\" 2. Incorporate relevant keywords naturally throughout the content: Integrate terms like \"artificial intelligence courses,\" \"deep learning education,\" and \"Andrew Ng\" to increase organic search rankings and attract a specific audience looking for AI resources. 3. Include a clear call-to-action: Encourage readers to take action by signing up for a course or exploring the platform further. For instance, \"Start your AI journey with DeepLearning.AI today and unlock the potential of tomorrow's technology.\"}\n",
      "{'reviewer': 'Ethics Reviewer', 'review': '- Ensure transparency: Clearly disclose any potential conflicts of interest or partnerships with DeepLearning.AI to maintain trust with the audience.\\n- Avoid misleading claims: Verify the accuracy of statements regarding the accessibility and effectiveness of the courses offered to present a realistic depiction of the learning experience.\\n- Respect user privacy: Safeguard user data and adhere to data protection regulations when collecting information from individuals who sign up for courses on the platform.'}\n",
      "\n",
      "--------------------------------------------------------------------------------\n",
      "\u001b[31m\n",
      ">>>>>>>> USING AUTO REPLY...\u001b[0m\n",
      "\u001b[33mMeta Reviewer\u001b[0m (to Critic):\n",
      "\n",
      "Aggregating the feedback from the SEO Specialist and Ethics Reviewer, here are the key points to consider for improving the writing:\n",
      "\n",
      "1. Enhance the title with targeted keywords: Incorporate popular search terms related to AI and online courses to improve search visibility. Consider a title like \"Master AI with DeepLearning.AI: Courses for Deep Learning Enthusiasts & Beginners\" to attract the target audience effectively.\n",
      "\n",
      "2. Integrate relevant keywords naturally throughout the content: Include terms like \"artificial intelligence courses,\" \"deep learning education,\" and \"Andrew Ng\" to boost organic search rankings and cater to users looking for AI resources.\n",
      "\n",
      "3. Include a clear call-to-action: Encourage readers to take action, such as signing up for a course or exploring the platform further. Use a compelling CTA like \"Start your AI journey with DeepLearning.AI today and unlock the potential of tomorrow's technology.\"\n",
      "\n",
      "4. Ensure transparency and avoid misleading claims: Disclose any potential conflicts of interest or partnerships with DeepLearning.AI to maintain trust with the audience. Verify the accuracy of statements regarding course accessibility and effectiveness to provide a realistic depiction of the learning experience.\n",
      "\n",
      "5. Respect user privacy: Safeguard user data and comply with data protection regulations when collecting information from individuals signing up for courses on the platform.\n",
      "\n",
      "Final Suggestion:\n",
      "By implementing the suggestions provided by both reviewers, the writing can be enhanced to improve search visibility, attract the target audience, encourage user engagement, and maintain trust with readers. Additionally, ensuring transparency and respecting user privacy will contribute to building a positive reputation for the platform.\n",
      "\n",
      "--------------------------------------------------------------------------------\n",
      "\u001b[33mCritic\u001b[0m (to Writer):\n",
      "\n",
      "Aggregating the feedback from the SEO Specialist and Ethics Reviewer, here are the key points to consider for improving the writing:\n",
      "\n",
      "1. Enhance the title with targeted keywords: Incorporate popular search terms related to AI and online courses to improve search visibility. Consider a title like \"Master AI with DeepLearning.AI: Courses for Deep Learning Enthusiasts & Beginners\" to attract the target audience effectively.\n",
      "\n",
      "2. Integrate relevant keywords naturally throughout the content: Include terms like \"artificial intelligence courses,\" \"deep learning education,\" and \"Andrew Ng\" to boost organic search rankings and cater to users looking for AI resources.\n",
      "\n",
      "3. Include a clear call-to-action: Encourage readers to take action, such as signing up for a course or exploring the platform further. Use a compelling CTA like \"Start your AI journey with DeepLearning.AI today and unlock the potential of tomorrow's technology.\"\n",
      "\n",
      "4. Ensure transparency and avoid misleading claims: Disclose any potential conflicts of interest or partnerships with DeepLearning.AI to maintain trust with the audience. Verify the accuracy of statements regarding course accessibility and effectiveness to provide a realistic depiction of the learning experience.\n",
      "\n",
      "5. Respect user privacy: Safeguard user data and comply with data protection regulations when collecting information from individuals signing up for courses on the platform.\n",
      "\n",
      "Final Suggestion:\n",
      "By implementing the suggestions provided by both reviewers, the writing can be enhanced to improve search visibility, attract the target audience, encourage user engagement, and maintain trust with readers. Additionally, ensuring transparency and respecting user privacy will contribute to building a positive reputation for the platform.\n",
      "\n",
      "--------------------------------------------------------------------------------\n",
      "\u001b[31m\n",
      ">>>>>>>> USING AUTO REPLY...\u001b[0m\n",
      "\u001b[33mWriter\u001b[0m (to Critic):\n",
      "\n",
      "Title: Master AI with DeepLearning.AI: Courses for Deep Learning Enthusiasts & Beginners\n",
      "\n",
      "Embark on an AI learning journey with DeepLearning.AI, founded by Andrew Ng. Explore cutting-edge artificial intelligence courses, from convolutional networks to natural language processing. Whether you're new to AI or an expert, our platform caters to all levels. Join millions worldwide shaping the future of technology. Start your AI journey with DeepLearning.AI today and unlock the potential of tomorrow's technology. Transparent, trustworthy, and privacy-focused, we provide top-tier deep learning education. Discover the power of AI and drive innovation with us.\n",
      "\n",
      "--------------------------------------------------------------------------------\n"
     ]
    }
   ],
   "source": [
    "res = critic.initiate_chat(\n",
    "    recipient=writer,\n",
    "    message=task,\n",
    "    max_turns=2,\n",
    "    summary_method=\"last_msg\"\n",
    ")"
   ]
  },
  {
   "cell_type": "markdown",
   "id": "c5c833b0",
   "metadata": {},
   "source": [
    "## Get the summary"
   ]
  },
  {
   "cell_type": "code",
   "execution_count": 18,
   "id": "68ef82ed-f102-4964-b7be-60e2f258a39b",
   "metadata": {
    "height": 30
   },
   "outputs": [
    {
     "name": "stdout",
     "output_type": "stream",
     "text": [
      "Title: Master AI with DeepLearning.AI: Courses for Deep Learning Enthusiasts & Beginners\n",
      "\n",
      "Embark on an AI learning journey with DeepLearning.AI, founded by Andrew Ng. Explore cutting-edge artificial intelligence courses, from convolutional networks to natural language processing. Whether you're new to AI or an expert, our platform caters to all levels. Join millions worldwide shaping the future of technology. Start your AI journey with DeepLearning.AI today and unlock the potential of tomorrow's technology. Transparent, trustworthy, and privacy-focused, we provide top-tier deep learning education. Discover the power of AI and drive innovation with us.\n"
     ]
    }
   ],
   "source": [
    "print(res.summary)"
   ]
  }
 ],
 "metadata": {
  "kernelspec": {
   "display_name": "Python 3 (ipykernel)",
   "language": "python",
   "name": "python3"
  },
  "language_info": {
   "codemirror_mode": {
    "name": "ipython",
    "version": 3
   },
   "file_extension": ".py",
   "mimetype": "text/x-python",
   "name": "python",
   "nbconvert_exporter": "python",
   "pygments_lexer": "ipython3",
   "version": "3.11.5"
  }
 },
 "nbformat": 4,
 "nbformat_minor": 5
}
